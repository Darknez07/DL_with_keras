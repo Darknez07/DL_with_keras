{
 "cells": [
  {
   "cell_type": "markdown",
   "metadata": {},
   "source": [
    "# MNIST CNN"
   ]
  },
  {
   "cell_type": "code",
   "execution_count": 22,
   "metadata": {},
   "outputs": [],
   "source": [
    "import tensorflow as tf"
   ]
  },
  {
   "cell_type": "code",
   "execution_count": 23,
   "metadata": {},
   "outputs": [],
   "source": [
    "from tensorflow.examples.tutorials.mnist import input_data"
   ]
  },
  {
   "cell_type": "code",
   "execution_count": 24,
   "metadata": {},
   "outputs": [
    {
     "name": "stdout",
     "output_type": "stream",
     "text": [
      "Extracting MNIST_data/train-images-idx3-ubyte.gz\n",
      "Extracting MNIST_data/train-labels-idx1-ubyte.gz\n",
      "Extracting MNIST_data/t10k-images-idx3-ubyte.gz\n",
      "Extracting MNIST_data/t10k-labels-idx1-ubyte.gz\n"
     ]
    }
   ],
   "source": [
    "mnist = input_data.read_data_sets('MNIST_data/',one_hot=True)"
   ]
  },
  {
   "cell_type": "markdown",
   "metadata": {},
   "source": [
    "# Helper\n",
    "## Intialize Weights"
   ]
  },
  {
   "cell_type": "code",
   "execution_count": 25,
   "metadata": {},
   "outputs": [],
   "source": [
    "def init_weights(shape, layers):\n",
    "    init_rand_dist = tf.truncated_normal(shape=shape, stddev=(1/(layers + 512)))\n",
    "    return tf.Variable(init_rand_dist)"
   ]
  },
  {
   "cell_type": "markdown",
   "metadata": {},
   "source": [
    "# Initial Bias"
   ]
  },
  {
   "cell_type": "code",
   "execution_count": 26,
   "metadata": {},
   "outputs": [],
   "source": [
    "def init_bias(shape):\n",
    "    init_bias_val = tf.constant(0.1, shape=shape)\n",
    "    return tf.Variable(init_bias_val)"
   ]
  },
  {
   "cell_type": "markdown",
   "metadata": {},
   "source": [
    "# Conv2d"
   ]
  },
  {
   "cell_type": "code",
   "execution_count": 27,
   "metadata": {},
   "outputs": [],
   "source": [
    "def conv2d(x, w):\n",
    "    \n",
    "    return tf.nn.conv2d(x, w, strides=[1,1,1,1], padding='SAME')"
   ]
  },
  {
   "cell_type": "markdown",
   "metadata": {},
   "source": [
    "## Pooling"
   ]
  },
  {
   "cell_type": "code",
   "execution_count": 28,
   "metadata": {},
   "outputs": [],
   "source": [
    "def max_pool_2by2(x):\n",
    "    return tf.nn.max_pool(x,ksize=[1,2,2,1],strides=[1,2,2,1],padding='SAME') "
   ]
  },
  {
   "cell_type": "markdown",
   "metadata": {},
   "source": [
    "# Layers"
   ]
  },
  {
   "cell_type": "code",
   "execution_count": 29,
   "metadata": {},
   "outputs": [],
   "source": [
    "def convolve_layer(input_x, shape):\n",
    "    w = init_weights(shape=shape,layers = shape[3])\n",
    "    b = init_bias([shape[3]])\n",
    "    return tf.nn.relu(conv2d(input_x,w) + b)"
   ]
  },
  {
   "cell_type": "markdown",
   "metadata": {},
   "source": [
    "# Fully connected"
   ]
  },
  {
   "cell_type": "code",
   "execution_count": 43,
   "metadata": {},
   "outputs": [],
   "source": [
    "def fully_connected(input_layer,size):\n",
    "    input_size = int(input_layer.get_shape()[1])\n",
    "    w = init_weights([input_size, size],layers = size)\n",
    "    b = init_bias([size])\n",
    "    return tf.matmul(input_layer, w) + b"
   ]
  },
  {
   "cell_type": "markdown",
   "metadata": {},
   "source": [
    "# Placeholders"
   ]
  },
  {
   "cell_type": "code",
   "execution_count": 44,
   "metadata": {},
   "outputs": [],
   "source": [
    "x = tf.placeholder(tf.float32,shape=[None,784])"
   ]
  },
  {
   "cell_type": "code",
   "execution_count": 45,
   "metadata": {},
   "outputs": [],
   "source": [
    "y_true = tf.placeholder(tf.float32, shape=[None,10])"
   ]
  },
  {
   "cell_type": "code",
   "execution_count": 46,
   "metadata": {},
   "outputs": [],
   "source": [
    "x_image = tf.reshape(x,[-1,28,28,1])"
   ]
  },
  {
   "cell_type": "code",
   "execution_count": 47,
   "metadata": {},
   "outputs": [],
   "source": [
    "conv1 = convolve_layer(x_image, shape=[3,3,1,32])\n",
    "pool1_conv  = max_pool_2by2(conv1)"
   ]
  },
  {
   "cell_type": "code",
   "execution_count": 48,
   "metadata": {},
   "outputs": [],
   "source": [
    "conv2 = convolve_layer(pool1_conv,shape=[4,4,32,64])\n",
    "pool2_conv = max_pool_2by2(conv2)"
   ]
  },
  {
   "cell_type": "code",
   "execution_count": 49,
   "metadata": {},
   "outputs": [],
   "source": [
    "conv2flat = tf.reshape(pool2_conv,[-1, 7*7*64])\n",
    "full_layer_1 = tf.nn.relu(fully_connected(conv2flat, 512))"
   ]
  },
  {
   "cell_type": "code",
   "execution_count": 50,
   "metadata": {},
   "outputs": [],
   "source": [
    "hold_prob = tf.placeholder(tf.float32)\n",
    "full_one_drop = tf.nn.dropout(full_layer_1, keep_prob=hold_prob)"
   ]
  },
  {
   "cell_type": "code",
   "execution_count": 51,
   "metadata": {},
   "outputs": [],
   "source": [
    "y_pred = fully_connected(full_one_drop, 10)"
   ]
  },
  {
   "cell_type": "markdown",
   "metadata": {},
   "source": [
    "## Loss function"
   ]
  },
  {
   "cell_type": "code",
   "execution_count": 52,
   "metadata": {},
   "outputs": [],
   "source": [
    "cross_en=tf.reduce_mean(tf.nn.softmax_cross_entropy_with_logits(labels=y_true,logits=y_pred))"
   ]
  },
  {
   "cell_type": "markdown",
   "metadata": {},
   "source": [
    "## Optimizer"
   ]
  },
  {
   "cell_type": "code",
   "execution_count": 53,
   "metadata": {},
   "outputs": [],
   "source": [
    "opt = tf.train.AdamOptimizer(learning_rate=0.01)\n",
    "train = opt.minimize(cross_en)"
   ]
  },
  {
   "cell_type": "code",
   "execution_count": 54,
   "metadata": {},
   "outputs": [],
   "source": [
    "init = tf.global_variables_initializer()"
   ]
  },
  {
   "cell_type": "code",
   "execution_count": 55,
   "metadata": {
    "scrolled": true
   },
   "outputs": [
    {
     "name": "stdout",
     "output_type": "stream",
     "text": [
      "ON STEP: 0\n",
      "ACCURACY\n",
      "0.0982\n",
      "\n",
      "\n",
      "ON STEP: 100\n",
      "ACCURACY\n",
      "0.9147\n",
      "\n",
      "\n",
      "ON STEP: 200\n",
      "ACCURACY\n",
      "0.9466\n",
      "\n",
      "\n",
      "ON STEP: 300\n",
      "ACCURACY\n",
      "0.9598\n",
      "\n",
      "\n",
      "ON STEP: 400\n",
      "ACCURACY\n",
      "0.9658\n",
      "\n",
      "\n",
      "ON STEP: 500\n",
      "ACCURACY\n",
      "0.9689\n",
      "\n",
      "\n",
      "ON STEP: 600\n",
      "ACCURACY\n",
      "0.9718\n",
      "\n",
      "\n",
      "ON STEP: 700\n",
      "ACCURACY\n",
      "0.9617\n",
      "\n",
      "\n",
      "ON STEP: 800\n",
      "ACCURACY\n",
      "0.9736\n",
      "\n",
      "\n",
      "ON STEP: 900\n",
      "ACCURACY\n",
      "0.9601\n",
      "\n",
      "\n",
      "ON STEP: 1000\n",
      "ACCURACY\n",
      "0.9618\n",
      "\n",
      "\n",
      "ON STEP: 1100\n",
      "ACCURACY\n",
      "0.9751\n",
      "\n",
      "\n",
      "ON STEP: 1200\n",
      "ACCURACY\n",
      "0.9717\n",
      "\n",
      "\n",
      "ON STEP: 1300\n",
      "ACCURACY\n",
      "0.977\n",
      "\n",
      "\n",
      "ON STEP: 1400\n",
      "ACCURACY\n",
      "0.9733\n",
      "\n",
      "\n",
      "ON STEP: 1500\n",
      "ACCURACY\n",
      "0.9771\n",
      "\n",
      "\n",
      "ON STEP: 1600\n",
      "ACCURACY\n",
      "0.9774\n",
      "\n",
      "\n",
      "ON STEP: 1700\n",
      "ACCURACY\n",
      "0.9765\n",
      "\n",
      "\n",
      "ON STEP: 1800\n",
      "ACCURACY\n",
      "0.973\n",
      "\n",
      "\n",
      "ON STEP: 1900\n",
      "ACCURACY\n",
      "0.9768\n",
      "\n",
      "\n",
      "ON STEP: 2000\n",
      "ACCURACY\n",
      "0.9812\n",
      "\n",
      "\n",
      "ON STEP: 2100\n",
      "ACCURACY\n",
      "0.9755\n",
      "\n",
      "\n",
      "ON STEP: 2200\n",
      "ACCURACY\n",
      "0.9806\n",
      "\n",
      "\n",
      "ON STEP: 2300\n",
      "ACCURACY\n",
      "0.9772\n",
      "\n",
      "\n",
      "ON STEP: 2400\n",
      "ACCURACY\n",
      "0.9758\n",
      "\n",
      "\n",
      "ON STEP: 2500\n",
      "ACCURACY\n",
      "0.9778\n",
      "\n",
      "\n",
      "ON STEP: 2600\n",
      "ACCURACY\n",
      "0.9781\n",
      "\n",
      "\n",
      "ON STEP: 2700\n",
      "ACCURACY\n",
      "0.9723\n",
      "\n",
      "\n",
      "ON STEP: 2800\n",
      "ACCURACY\n",
      "0.9764\n",
      "\n",
      "\n",
      "ON STEP: 2900\n",
      "ACCURACY\n",
      "0.9778\n",
      "\n",
      "\n",
      "ON STEP: 3000\n",
      "ACCURACY\n",
      "0.9764\n",
      "\n",
      "\n",
      "ON STEP: 3100\n",
      "ACCURACY\n",
      "0.9783\n",
      "\n",
      "\n",
      "ON STEP: 3200\n",
      "ACCURACY\n",
      "0.9704\n",
      "\n",
      "\n",
      "ON STEP: 3300\n",
      "ACCURACY\n",
      "0.9807\n",
      "\n",
      "\n",
      "ON STEP: 3400\n",
      "ACCURACY\n",
      "0.9794\n",
      "\n",
      "\n",
      "ON STEP: 3500\n",
      "ACCURACY\n",
      "0.9809\n",
      "\n",
      "\n",
      "ON STEP: 3600\n",
      "ACCURACY\n",
      "0.9797\n",
      "\n",
      "\n",
      "ON STEP: 3700\n",
      "ACCURACY\n",
      "0.9805\n",
      "\n",
      "\n",
      "ON STEP: 3800\n",
      "ACCURACY\n",
      "0.9821\n",
      "\n",
      "\n",
      "ON STEP: 3900\n",
      "ACCURACY\n",
      "0.979\n",
      "\n",
      "\n",
      "ON STEP: 4000\n",
      "ACCURACY\n",
      "0.9822\n",
      "\n",
      "\n",
      "ON STEP: 4100\n",
      "ACCURACY\n",
      "0.9775\n",
      "\n",
      "\n",
      "ON STEP: 4200\n",
      "ACCURACY\n",
      "0.9771\n",
      "\n",
      "\n",
      "ON STEP: 4300\n",
      "ACCURACY\n",
      "0.9808\n",
      "\n",
      "\n",
      "ON STEP: 4400\n",
      "ACCURACY\n",
      "0.9786\n",
      "\n",
      "\n",
      "ON STEP: 4500\n",
      "ACCURACY\n",
      "0.9805\n",
      "\n",
      "\n",
      "ON STEP: 4600\n",
      "ACCURACY\n",
      "0.9804\n",
      "\n",
      "\n",
      "ON STEP: 4700\n",
      "ACCURACY\n",
      "0.981\n",
      "\n",
      "\n",
      "ON STEP: 4800\n",
      "ACCURACY\n",
      "0.981\n",
      "\n",
      "\n",
      "ON STEP: 4900\n",
      "ACCURACY\n",
      "0.9814\n",
      "\n",
      "\n"
     ]
    }
   ],
   "source": [
    "steps = 5000\n",
    "with tf.Session() as sess:\n",
    "    \n",
    "    sess.run(init)\n",
    "    \n",
    "    for i in range(steps):\n",
    "        batch_x, batch_y = mnist.train.next_batch(50)\n",
    "        \n",
    "        sess.run(train, feed_dict={x:batch_x,y_true: batch_y,hold_prob:0.4})\n",
    "        \n",
    "        if i % 100 == 0:\n",
    "            \n",
    "            print(\"ON STEP: {}\".format(i))\n",
    "            print('ACCURACY')\n",
    "            matches = tf.equal(tf.argmax(y_pred, 1),tf.argmax(y_true, 1))\n",
    "            \n",
    "            acc = tf.reduce_mean(tf.cast(matches, tf.float32))\n",
    "            \n",
    "            print(sess.run(acc, feed_dict={x: mnist.test.images, y_true: mnist.test.labels,\n",
    "                                          hold_prob: 1.0}))\n",
    "            print(\"\\n\")"
   ]
  },
  {
   "cell_type": "code",
   "execution_count": null,
   "metadata": {},
   "outputs": [],
   "source": []
  }
 ],
 "metadata": {
  "kernelspec": {
   "display_name": "Python 3",
   "language": "python",
   "name": "python3"
  },
  "language_info": {
   "codemirror_mode": {
    "name": "ipython",
    "version": 3
   },
   "file_extension": ".py",
   "mimetype": "text/x-python",
   "name": "python",
   "nbconvert_exporter": "python",
   "pygments_lexer": "ipython3",
   "version": "3.5.4"
  }
 },
 "nbformat": 4,
 "nbformat_minor": 4
}
