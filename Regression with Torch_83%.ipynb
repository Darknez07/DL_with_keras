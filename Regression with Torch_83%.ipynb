{
 "cells": [
  {
   "cell_type": "code",
   "execution_count": 2,
   "metadata": {},
   "outputs": [
    {
     "name": "stderr",
     "output_type": "stream",
     "text": [
      "C:\\Users\\rishi\\Anaconda3\\lib\\importlib\\_bootstrap.py:219: RuntimeWarning: numpy.ufunc size changed, may indicate binary incompatibility. Expected 192 from C header, got 216 from PyObject\n",
      "  return f(*args, **kwds)\n"
     ]
    }
   ],
   "source": [
    "import torch\n",
    "import pandas as pd"
   ]
  },
  {
   "cell_type": "code",
   "execution_count": 169,
   "metadata": {},
   "outputs": [],
   "source": [
    "from sklearn.model_selection import train_test_split"
   ]
  },
  {
   "cell_type": "code",
   "execution_count": 170,
   "metadata": {},
   "outputs": [],
   "source": [
    "data = pd.read_csv('Data.csv')"
   ]
  },
  {
   "cell_type": "code",
   "execution_count": 171,
   "metadata": {},
   "outputs": [],
   "source": [
    "x = data.iloc[:, :-1]\n",
    "y = data.iloc[:, -1]"
   ]
  },
  {
   "cell_type": "code",
   "execution_count": 172,
   "metadata": {},
   "outputs": [
    {
     "data": {
      "text/html": [
       "<div>\n",
       "<style scoped>\n",
       "    .dataframe tbody tr th:only-of-type {\n",
       "        vertical-align: middle;\n",
       "    }\n",
       "\n",
       "    .dataframe tbody tr th {\n",
       "        vertical-align: top;\n",
       "    }\n",
       "\n",
       "    .dataframe thead th {\n",
       "        text-align: right;\n",
       "    }\n",
       "</style>\n",
       "<table border=\"1\" class=\"dataframe\">\n",
       "  <thead>\n",
       "    <tr style=\"text-align: right;\">\n",
       "      <th></th>\n",
       "      <th>AT</th>\n",
       "      <th>V</th>\n",
       "      <th>AP</th>\n",
       "      <th>RH</th>\n",
       "    </tr>\n",
       "  </thead>\n",
       "  <tbody>\n",
       "    <tr>\n",
       "      <th>0</th>\n",
       "      <td>14.96</td>\n",
       "      <td>41.76</td>\n",
       "      <td>1024.07</td>\n",
       "      <td>73.17</td>\n",
       "    </tr>\n",
       "    <tr>\n",
       "      <th>1</th>\n",
       "      <td>25.18</td>\n",
       "      <td>62.96</td>\n",
       "      <td>1020.04</td>\n",
       "      <td>59.08</td>\n",
       "    </tr>\n",
       "    <tr>\n",
       "      <th>2</th>\n",
       "      <td>5.11</td>\n",
       "      <td>39.40</td>\n",
       "      <td>1012.16</td>\n",
       "      <td>92.14</td>\n",
       "    </tr>\n",
       "    <tr>\n",
       "      <th>3</th>\n",
       "      <td>20.86</td>\n",
       "      <td>57.32</td>\n",
       "      <td>1010.24</td>\n",
       "      <td>76.64</td>\n",
       "    </tr>\n",
       "    <tr>\n",
       "      <th>4</th>\n",
       "      <td>10.82</td>\n",
       "      <td>37.50</td>\n",
       "      <td>1009.23</td>\n",
       "      <td>96.62</td>\n",
       "    </tr>\n",
       "  </tbody>\n",
       "</table>\n",
       "</div>"
      ],
      "text/plain": [
       "      AT      V       AP     RH\n",
       "0  14.96  41.76  1024.07  73.17\n",
       "1  25.18  62.96  1020.04  59.08\n",
       "2   5.11  39.40  1012.16  92.14\n",
       "3  20.86  57.32  1010.24  76.64\n",
       "4  10.82  37.50  1009.23  96.62"
      ]
     },
     "execution_count": 172,
     "metadata": {},
     "output_type": "execute_result"
    }
   ],
   "source": [
    "x.head()"
   ]
  },
  {
   "cell_type": "code",
   "execution_count": 173,
   "metadata": {},
   "outputs": [
    {
     "data": {
      "text/plain": [
       "0    463.26\n",
       "1    444.37\n",
       "2    488.56\n",
       "3    446.48\n",
       "4    473.90\n",
       "Name: PE, dtype: float64"
      ]
     },
     "execution_count": 173,
     "metadata": {},
     "output_type": "execute_result"
    }
   ],
   "source": [
    "y.head()"
   ]
  },
  {
   "cell_type": "code",
   "execution_count": 174,
   "metadata": {},
   "outputs": [
    {
     "data": {
      "text/html": [
       "<div>\n",
       "<style scoped>\n",
       "    .dataframe tbody tr th:only-of-type {\n",
       "        vertical-align: middle;\n",
       "    }\n",
       "\n",
       "    .dataframe tbody tr th {\n",
       "        vertical-align: top;\n",
       "    }\n",
       "\n",
       "    .dataframe thead th {\n",
       "        text-align: right;\n",
       "    }\n",
       "</style>\n",
       "<table border=\"1\" class=\"dataframe\">\n",
       "  <thead>\n",
       "    <tr style=\"text-align: right;\">\n",
       "      <th></th>\n",
       "      <th>AT</th>\n",
       "      <th>V</th>\n",
       "      <th>AP</th>\n",
       "      <th>RH</th>\n",
       "      <th>PE</th>\n",
       "    </tr>\n",
       "  </thead>\n",
       "  <tbody>\n",
       "    <tr>\n",
       "      <th>0</th>\n",
       "      <td>14.96</td>\n",
       "      <td>41.76</td>\n",
       "      <td>1024.07</td>\n",
       "      <td>73.17</td>\n",
       "      <td>463.26</td>\n",
       "    </tr>\n",
       "    <tr>\n",
       "      <th>1</th>\n",
       "      <td>25.18</td>\n",
       "      <td>62.96</td>\n",
       "      <td>1020.04</td>\n",
       "      <td>59.08</td>\n",
       "      <td>444.37</td>\n",
       "    </tr>\n",
       "    <tr>\n",
       "      <th>2</th>\n",
       "      <td>5.11</td>\n",
       "      <td>39.40</td>\n",
       "      <td>1012.16</td>\n",
       "      <td>92.14</td>\n",
       "      <td>488.56</td>\n",
       "    </tr>\n",
       "    <tr>\n",
       "      <th>3</th>\n",
       "      <td>20.86</td>\n",
       "      <td>57.32</td>\n",
       "      <td>1010.24</td>\n",
       "      <td>76.64</td>\n",
       "      <td>446.48</td>\n",
       "    </tr>\n",
       "    <tr>\n",
       "      <th>4</th>\n",
       "      <td>10.82</td>\n",
       "      <td>37.50</td>\n",
       "      <td>1009.23</td>\n",
       "      <td>96.62</td>\n",
       "      <td>473.90</td>\n",
       "    </tr>\n",
       "  </tbody>\n",
       "</table>\n",
       "</div>"
      ],
      "text/plain": [
       "      AT      V       AP     RH      PE\n",
       "0  14.96  41.76  1024.07  73.17  463.26\n",
       "1  25.18  62.96  1020.04  59.08  444.37\n",
       "2   5.11  39.40  1012.16  92.14  488.56\n",
       "3  20.86  57.32  1010.24  76.64  446.48\n",
       "4  10.82  37.50  1009.23  96.62  473.90"
      ]
     },
     "execution_count": 174,
     "metadata": {},
     "output_type": "execute_result"
    }
   ],
   "source": [
    "data.head()"
   ]
  },
  {
   "cell_type": "code",
   "execution_count": 297,
   "metadata": {},
   "outputs": [],
   "source": [
    "import numpy as np"
   ]
  },
  {
   "cell_type": "code",
   "execution_count": 298,
   "metadata": {},
   "outputs": [],
   "source": [
    "def splits():\n",
    "    return train_test_split(x, y, test_size=0.2, random_state=42)"
   ]
  },
  {
   "cell_type": "code",
   "execution_count": 299,
   "metadata": {},
   "outputs": [],
   "source": [
    "def model():\n",
    "    return torch.nn.Linear(4, 1)"
   ]
  },
  {
   "cell_type": "code",
   "execution_count": 300,
   "metadata": {},
   "outputs": [],
   "source": [
    "def get_loss():\n",
    "    return torch.nn.functional.mse_loss"
   ]
  },
  {
   "cell_type": "code",
   "execution_count": 301,
   "metadata": {},
   "outputs": [],
   "source": [
    "def get_optimizer(model):\n",
    "    return torch.optim.SGD(model.parameters(),lr=2e-7)"
   ]
  },
  {
   "cell_type": "code",
   "execution_count": 302,
   "metadata": {},
   "outputs": [],
   "source": [
    "# x and y in pandas df\n",
    "def get_data(x, y, batch_size):\n",
    "    x_n = x.values.astype('float32')\n",
    "    y_n = y.values.astype('float32')\n",
    "    inputs = torch.from_numpy(x_n)\n",
    "    targets = torch.from_numpy(y_n)\n",
    "    train_ds = torch.utils.data.TensorDataset(inputs, targets)\n",
    "    train_dl = torch.utils.data.DataLoader(train_ds, batch_size, shuffle=True)\n",
    "    return train_dl"
   ]
  },
  {
   "cell_type": "code",
   "execution_count": 303,
   "metadata": {},
   "outputs": [],
   "source": [
    "def akkuracy(models, data_x, data_y, pct_close):\n",
    "    n_items = len(data_y)\n",
    "    X = torch.Tensor(data_x)\n",
    "    Y = torch.Tensor(data_y)  # actual as [102] Tensor\n",
    "\n",
    "    oupt = models(X)       # predicted as [102,1] Tensor\n",
    "    pred = oupt.view(n_items)  # predicted as [102]\n",
    "\n",
    "    n_correct = torch.sum((torch.abs(pred - Y) < torch.abs(pct_close * Y)))\n",
    "    acc = (n_correct.item() * 100.0 / n_items)  # scalar\n",
    "    return acc "
   ]
  },
  {
   "cell_type": "code",
   "execution_count": 310,
   "metadata": {},
   "outputs": [],
   "source": [
    "def fit(epochs, loss, train_ds,x_test, y_test):\n",
    "    models = model()\n",
    "    opt = get_optimizer(models)\n",
    "    final_acc = 0\n",
    "    test_acc = 0\n",
    "    for epoch in range(epochs):\n",
    "        \n",
    "        for xb, yb in train_ds:\n",
    "            # Predictions\n",
    "            predicts = models(xb)\n",
    "\n",
    "            # Get errors\n",
    "            losses = loss(predicts, yb.reshape(yb.shape[0], 1))\n",
    "            \n",
    "            # get back\n",
    "            losses.backward()\n",
    "            \n",
    "            #Optimize\n",
    "            opt.step()\n",
    "            \n",
    "            # Reset grad\n",
    "            opt.zero_grad()\n",
    "            \n",
    "        if (epoch+1) % 200 == 0:\n",
    "            final_acc+=akkuracy(models, xb, yb, 0.01)\n",
    "            test_acc+=akkuracy(models, x_test, y_test, 0.0185)\n",
    "            print(\"Epochs[{}/{}], Loss:{},Train Accuracy:{}, Test Accuracy:{}\".format(epoch+1, \n",
    "                                                               epochs, losses.item(), \n",
    "                                                               akkuracy(models, xb, yb, 0.01),\n",
    "                                                               akkuracy(models, x_test, y_test, 0.0185)))\n",
    "    print(final_acc/(epochs//200))\n",
    "    print(test_acc/(epochs//200))"
   ]
  },
  {
   "cell_type": "code",
   "execution_count": 311,
   "metadata": {},
   "outputs": [],
   "source": [
    "x_train, x_test, y_train, y_test = splits()"
   ]
  },
  {
   "cell_type": "code",
   "execution_count": 312,
   "metadata": {},
   "outputs": [],
   "source": [
    "x_test = torch.from_numpy(x_test.values.astype('float32'))\n",
    "y_test = torch.from_numpy(y_test.values.astype('float32'))"
   ]
  },
  {
   "cell_type": "code",
   "execution_count": 313,
   "metadata": {},
   "outputs": [],
   "source": [
    "train_dl = get_data(x_train, y_train, 100)"
   ]
  },
  {
   "cell_type": "code",
   "execution_count": 314,
   "metadata": {},
   "outputs": [],
   "source": [
    "loss = get_loss()"
   ]
  },
  {
   "cell_type": "code",
   "execution_count": 315,
   "metadata": {},
   "outputs": [
    {
     "name": "stdout",
     "output_type": "stream",
     "text": [
      "Epochs[200/3000], Loss:78.76124572753906,Train Accuracy:38.888888888888886, Test Accuracy:66.0919540229885\n",
      "Epochs[400/3000], Loss:71.26722717285156,Train Accuracy:38.888888888888886, Test Accuracy:73.87669801462904\n",
      "Epochs[600/3000], Loss:66.29273986816406,Train Accuracy:53.7037037037037, Test Accuracy:78.63113897596656\n",
      "Epochs[800/3000], Loss:50.512115478515625,Train Accuracy:51.851851851851855, Test Accuracy:79.51933124346917\n",
      "Epochs[1000/3000], Loss:40.68157196044922,Train Accuracy:61.111111111111114, Test Accuracy:81.03448275862068\n",
      "Epochs[1200/3000], Loss:35.94533920288086,Train Accuracy:51.851851851851855, Test Accuracy:82.13166144200628\n",
      "Epochs[1400/3000], Loss:55.811031341552734,Train Accuracy:46.2962962962963, Test Accuracy:82.86311389759666\n",
      "Epochs[1600/3000], Loss:24.86627769470215,Train Accuracy:72.22222222222223, Test Accuracy:83.80355276907001\n",
      "Epochs[1800/3000], Loss:30.943601608276367,Train Accuracy:59.25925925925926, Test Accuracy:84.43051201671891\n",
      "Epochs[2000/3000], Loss:46.195804595947266,Train Accuracy:50.0, Test Accuracy:84.69174503657263\n",
      "Epochs[2200/3000], Loss:26.323413848876953,Train Accuracy:53.7037037037037, Test Accuracy:85.8934169278997\n",
      "Epochs[2400/3000], Loss:43.22744369506836,Train Accuracy:37.03703703703704, Test Accuracy:86.67711598746081\n",
      "Epochs[2600/3000], Loss:27.397729873657227,Train Accuracy:59.25925925925926, Test Accuracy:87.19958202716823\n",
      "Epochs[2800/3000], Loss:21.81284523010254,Train Accuracy:68.51851851851852, Test Accuracy:87.93103448275862\n",
      "Epochs[3000/3000], Loss:44.99571228027344,Train Accuracy:59.25925925925926, Test Accuracy:88.0355276907001\n",
      "53.45679012345679\n",
      "82.18739115290838\n"
     ]
    }
   ],
   "source": [
    "fit(3000, loss, train_dl,x_test, y_test)"
   ]
  },
  {
   "cell_type": "code",
   "execution_count": null,
   "metadata": {},
   "outputs": [],
   "source": []
  }
 ],
 "metadata": {
  "kernelspec": {
   "display_name": "Python 3",
   "language": "python",
   "name": "python3"
  },
  "language_info": {
   "codemirror_mode": {
    "name": "ipython",
    "version": 3
   },
   "file_extension": ".py",
   "mimetype": "text/x-python",
   "name": "python",
   "nbconvert_exporter": "python",
   "pygments_lexer": "ipython3",
   "version": "3.6.10"
  }
 },
 "nbformat": 4,
 "nbformat_minor": 4
}
